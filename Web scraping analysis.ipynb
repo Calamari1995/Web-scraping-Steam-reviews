{
 "cells": [
  {
   "cell_type": "markdown",
   "metadata": {},
   "source": [
    "# Web Scraping Analysis: an overview of helpful steam reviews for grand strategy titles in the past 6 months\n",
    "\n"
   ]
  },
  {
   "cell_type": "markdown",
   "metadata": {},
   "source": [
    "Import the appropraite python libraries\n"
   ]
  },
  {
   "cell_type": "code",
   "execution_count": 7,
   "metadata": {},
   "outputs": [],
   "source": [
    "import numpy as np\n",
    "import pandas as pd\n",
    "import os\n",
    "import seaborn as sns\n",
    "from matplotlib import pyplot as plt\n",
    "plt.style.use('ggplot')\n"
   ]
  },
  {
   "cell_type": "code",
   "execution_count": 8,
   "metadata": {
    "scrolled": false
   },
   "outputs": [],
   "source": [
    "#Ensure you are working in the appropriate directory\n",
    "\n",
    "os.getcwd()\n",
    "\n",
    "os.chdir('insert working directory here')"
   ]
  },
  {
   "cell_type": "markdown",
   "metadata": {},
   "source": [
    "import the datasets from the csv files unto a data frame and rename them to their game titles from the steam app info \n",
    "\n",
    "game ID 42960 is [Victoria 2](https://steamdb.info/app/42960/)\n",
    "\n",
    "game ID 203770 is [Crusader Kings2](https://steamdb.info/app/203770/)\n",
    "\n",
    "game ID 394360 is [Hearts of Iron IV](https://steamdb.info/app/394360/)\n",
    "\n",
    "game ID 281990 is [Stellaris](https://steamdb.info/app/281990/)"
   ]
  },
  {
   "cell_type": "code",
   "execution_count": 9,
   "metadata": {},
   "outputs": [],
   "source": [
    "victoria2 = pd.read_csv('reviews_42960.csv', index_col=[0])\n",
    "\n",
    "crusader_kings2 = pd.read_csv('reviews_203770.csv', index_col=[0])\n",
    "\n",
    "hearts_of_iron4 = pd.read_csv('reviews_394360.csv', index_col=[0])\n",
    "\n",
    "stellaris = pd.read_csv('reviews_281990.csv', index_col=[0])"
   ]
  },
  {
   "cell_type": "code",
   "execution_count": 10,
   "metadata": {},
   "outputs": [],
   "source": [
    "#reformat the hours played to a float format \n",
    "\n",
    "victoria2['PlayHours'] = victoria2.PlayHours.str.extract(r'(\\d+)', expand=True).astype(float)\n",
    "\n",
    "crusader_kings2['PlayHours'] = crusader_kings2.PlayHours.str.extract(r'(\\d+)', expand=True).astype(float)\n",
    "\n",
    "hearts_of_iron4['PlayHours'] = hearts_of_iron4.PlayHours.str.extract(r'(\\d+)', expand=True).astype(float)\n",
    "\n",
    "stellaris['PlayHours'] = stellaris.PlayHours.str.extract(r'(\\d+)', expand=True).astype(float)\n"
   ]
  },
  {
   "cell_type": "markdown",
   "metadata": {},
   "source": [
    "let us assess the number of negative and positive reviews of each title "
   ]
  },
  {
   "cell_type": "code",
   "execution_count": 11,
   "metadata": {},
   "outputs": [
    {
     "data": {
      "text/plain": [
       "71"
      ]
     },
     "execution_count": 11,
     "metadata": {},
     "output_type": "execute_result"
    }
   ],
   "source": [
    "#victoria2 - negative reviews\n",
    "len(victoria2.loc[victoria2.Review=='Not Recommended'])"
   ]
  },
  {
   "cell_type": "code",
   "execution_count": 12,
   "metadata": {},
   "outputs": [
    {
     "data": {
      "text/plain": [
       "1155"
      ]
     },
     "execution_count": 12,
     "metadata": {},
     "output_type": "execute_result"
    }
   ],
   "source": [
    "#victoria2 - positive reviews\n",
    "len(victoria2.loc[victoria2.Review=='Recommended'])"
   ]
  },
  {
   "cell_type": "code",
   "execution_count": 13,
   "metadata": {},
   "outputs": [
    {
     "data": {
      "text/plain": [
       "([<matplotlib.patches.Wedge at 0x22c92718198>,\n",
       "  <matplotlib.patches.Wedge at 0x22c92718908>],\n",
       " [Text(1.0806032381784727, 0.20566147339304713, 'Not Recommended'),\n",
       "  Text(-1.0806032550269589, -0.20566138486634147, 'Recommended')],\n",
       " [Text(0.5894199480973487, 0.11217898548711662, '6.0%'),\n",
       "  Text(-0.589419957287432, -0.11217893719982262, '94.0%')])"
      ]
     },
     "execution_count": 13,
     "metadata": {},
     "output_type": "execute_result"
    },
    {
     "data": {
      "image/png": "[encoded data removed]",
      "text/plain": [
       "<Figure size 432x288 with 1 Axes>"
      ]
     },
     "metadata": {},
     "output_type": "display_data"
    }
   ],
   "source": [
    "reviews = [71,1115]\n",
    "recommendation = ['Not Recommended','Recommended']\n",
    "plt.pie(reviews, labels = recommendation, autopct='%2.1f%%')"
   ]
  },
  {
   "cell_type": "code",
   "execution_count": 14,
   "metadata": {},
   "outputs": [
    {
     "data": {
      "text/plain": [
       "226"
      ]
     },
     "execution_count": 14,
     "metadata": {},
     "output_type": "execute_result"
    }
   ],
   "source": [
    "#crusader kings 2 - negative reviews\n",
    "len(crusader_kings2.loc[crusader_kings2.Review=='Not Recommended'])"
   ]
  },
  {
   "cell_type": "code",
   "execution_count": 15,
   "metadata": {},
   "outputs": [
    {
     "data": {
      "text/plain": [
       "1473"
      ]
     },
     "execution_count": 15,
     "metadata": {},
     "output_type": "execute_result"
    }
   ],
   "source": [
    "#crusader kings 2 - positive reviews \n",
    "len(crusader_kings2.loc[crusader_kings2.Review=='Recommended'])"
   ]
  },
  {
   "cell_type": "code",
   "execution_count": 16,
   "metadata": {},
   "outputs": [
    {
     "data": {
      "text/plain": [
       "([<matplotlib.patches.Wedge at 0x22c928781d0>,\n",
       "  <matplotlib.patches.Wedge at 0x22c92878908>],\n",
       " [Text(1.0053407487379324, 0.4464190620113054, 'Not Recommended'),\n",
       "  Text(-1.005340790534697, -0.4464189678845094, 'Recommended')],\n",
       " [Text(0.5483676811297812, 0.24350130655162108, '13.3%'),\n",
       "  Text(-0.5483677039280165, -0.24350125520973237, '86.7%')])"
      ]
     },
     "execution_count": 16,
     "metadata": {},
     "output_type": "execute_result"
    },
    {
     "data": {
      "image/png": "[encoded data removed]",
      "text/plain": [
       "<Figure size 432x288 with 1 Axes>"
      ]
     },
     "metadata": {},
     "output_type": "display_data"
    }
   ],
   "source": [
    "reviews = [226,1473]\n",
    "recommendation = ['Not Recommended','Recommended']\n",
    "plt.pie(reviews, labels = recommendation, autopct='%2.1f%%')"
   ]
  },
  {
   "cell_type": "code",
   "execution_count": 17,
   "metadata": {},
   "outputs": [
    {
     "data": {
      "text/plain": [
       "895"
      ]
     },
     "execution_count": 17,
     "metadata": {},
     "output_type": "execute_result"
    }
   ],
   "source": [
    "#hearts of iron IV - negative reviews\n",
    "len(hearts_of_iron4.loc[hearts_of_iron4.Review=='Not Recommended'])"
   ]
  },
  {
   "cell_type": "code",
   "execution_count": 18,
   "metadata": {},
   "outputs": [
    {
     "data": {
      "text/plain": [
       "10290"
      ]
     },
     "execution_count": 18,
     "metadata": {},
     "output_type": "execute_result"
    }
   ],
   "source": [
    "#hearts of iron IV - positive reviews\n",
    "len(hearts_of_iron4.loc[hearts_of_iron4.Review=='Recommended'])"
   ]
  },
  {
   "cell_type": "code",
   "execution_count": 19,
   "metadata": {},
   "outputs": [
    {
     "data": {
      "text/plain": [
       "([<matplotlib.patches.Wedge at 0x22c9275a2b0>,\n",
       "  <matplotlib.patches.Wedge at 0x22c9275a9b0>],\n",
       " [Text(1.065426109639201, 0.27361872176274293, 'Not Recommended'),\n",
       "  Text(-1.0654260968301832, -0.2736187716389381, 'Recommended')],\n",
       " [Text(0.581141514348655, 0.14924657550695067, '8.0%'),\n",
       "  Text(-0.581141507361918, -0.14924660271214804, '92.0%')])"
      ]
     },
     "execution_count": 19,
     "metadata": {},
     "output_type": "execute_result"
    },
    {
     "data": {
      "image/png": "[encoded data removed]",
      "text/plain": [
       "<Figure size 432x288 with 1 Axes>"
      ]
     },
     "metadata": {},
     "output_type": "display_data"
    }
   ],
   "source": [
    "reviews = [895,10290]\n",
    "recommendation = ['Not Recommended','Recommended']\n",
    "plt.pie(reviews, labels = recommendation, autopct='%2.1f%%')"
   ]
  },
  {
   "cell_type": "code",
   "execution_count": 20,
   "metadata": {},
   "outputs": [
    {
     "data": {
      "text/plain": [
       "741"
      ]
     },
     "execution_count": 20,
     "metadata": {},
     "output_type": "execute_result"
    }
   ],
   "source": [
    "#stellaris - negative reviews \n",
    "len(stellaris.loc[stellaris.Review=='Not Recommended'])"
   ]
  },
  {
   "cell_type": "code",
   "execution_count": 21,
   "metadata": {},
   "outputs": [
    {
     "data": {
      "text/plain": [
       "6292"
      ]
     },
     "execution_count": 21,
     "metadata": {},
     "output_type": "execute_result"
    }
   ],
   "source": [
    "#stellaris - positive reviews\n",
    "len(stellaris.loc[stellaris.Review=='Recommended'])"
   ]
  },
  {
   "cell_type": "code",
   "execution_count": 22,
   "metadata": {
    "scrolled": false
   },
   "outputs": [
    {
     "data": {
      "text/plain": [
       "([<matplotlib.patches.Wedge at 0x22c927d42e8>,\n",
       "  <matplotlib.patches.Wedge at 0x22c927d49e8>],\n",
       " [Text(1.0402897578779755, 0.3574873699226078, 'Not Recommended'),\n",
       "  Text(-1.040289766245571, -0.35748734557286865, 'Recommended')],\n",
       " [Text(0.5674307770243502, 0.19499311086687696, '10.5%'),\n",
       "  Text(-0.5674307815884931, -0.1949930975852011, '89.5%')])"
      ]
     },
     "execution_count": 22,
     "metadata": {},
     "output_type": "execute_result"
    },
    {
     "data": {
      "image/png": "[encoded data removed]",
      "text/plain": [
       "<Figure size 432x288 with 1 Axes>"
      ]
     },
     "metadata": {},
     "output_type": "display_data"
    }
   ],
   "source": [
    "reviews = [741,6292]\n",
    "recommendation = ['Not Recommended','Recommended']\n",
    "plt.pie(reviews, labels = recommendation, autopct='%2.1f%%')"
   ]
  },
  {
   "cell_type": "code",
   "execution_count": 23,
   "metadata": {
    "scrolled": false
   },
   "outputs": [
    {
     "data": {
      "text/html": [
       "<div>\n",
       "<style scoped>\n",
       "    .dataframe tbody tr th:only-of-type {\n",
       "        vertical-align: middle;\n",
       "    }\n",
       "\n",
       "    .dataframe tbody tr th {\n",
       "        vertical-align: top;\n",
       "    }\n",
       "\n",
       "    .dataframe thead th {\n",
       "        text-align: right;\n",
       "    }\n",
       "</style>\n",
       "<table border=\"1\" class=\"dataframe\">\n",
       "  <thead>\n",
       "    <tr style=\"text-align: right;\">\n",
       "      <th></th>\n",
       "      <th>Title</th>\n",
       "      <th>Negative reviews</th>\n",
       "      <th>Positive Reviews</th>\n",
       "    </tr>\n",
       "  </thead>\n",
       "  <tbody>\n",
       "    <tr>\n",
       "      <th>0</th>\n",
       "      <td>Victoria2</td>\n",
       "      <td>71</td>\n",
       "      <td>1155</td>\n",
       "    </tr>\n",
       "    <tr>\n",
       "      <th>1</th>\n",
       "      <td>Crusader Kings 2</td>\n",
       "      <td>226</td>\n",
       "      <td>1473</td>\n",
       "    </tr>\n",
       "    <tr>\n",
       "      <th>2</th>\n",
       "      <td>Hearts of Iron IV</td>\n",
       "      <td>895</td>\n",
       "      <td>10290</td>\n",
       "    </tr>\n",
       "    <tr>\n",
       "      <th>3</th>\n",
       "      <td>Stellaris</td>\n",
       "      <td>741</td>\n",
       "      <td>6292</td>\n",
       "    </tr>\n",
       "  </tbody>\n",
       "</table>\n",
       "</div>"
      ],
      "text/plain": [
       "               Title  Negative reviews  Positive Reviews\n",
       "0          Victoria2                71              1155\n",
       "1   Crusader Kings 2               226              1473\n",
       "2  Hearts of Iron IV               895             10290\n",
       "3          Stellaris               741              6292"
      ]
     },
     "execution_count": 23,
     "metadata": {},
     "output_type": "execute_result"
    }
   ],
   "source": [
    "data = {'Title':['Victoria2', 'Crusader Kings 2', 'Hearts of Iron IV', 'Stellaris'], 'Negative reviews':[71,226,895,741], \n",
    "        'Positive Reviews': [1155,1473,10290,6292]}\n",
    "df = pd.DataFrame(data)  \n",
    "df"
   ]
  },
  {
   "cell_type": "code",
   "execution_count": 24,
   "metadata": {},
   "outputs": [
    {
     "data": {
      "text/html": [
       "<div>\n",
       "<style scoped>\n",
       "    .dataframe tbody tr th:only-of-type {\n",
       "        vertical-align: middle;\n",
       "    }\n",
       "\n",
       "    .dataframe tbody tr th {\n",
       "        vertical-align: top;\n",
       "    }\n",
       "\n",
       "    .dataframe thead th {\n",
       "        text-align: right;\n",
       "    }\n",
       "</style>\n",
       "<table border=\"1\" class=\"dataframe\">\n",
       "  <thead>\n",
       "    <tr style=\"text-align: right;\">\n",
       "      <th></th>\n",
       "      <th>Title</th>\n",
       "      <th>Negative reviews</th>\n",
       "      <th>Positive Reviews</th>\n",
       "      <th>Total Reviews</th>\n",
       "    </tr>\n",
       "  </thead>\n",
       "  <tbody>\n",
       "    <tr>\n",
       "      <th>0</th>\n",
       "      <td>Victoria2</td>\n",
       "      <td>71</td>\n",
       "      <td>1155</td>\n",
       "      <td>1226</td>\n",
       "    </tr>\n",
       "    <tr>\n",
       "      <th>1</th>\n",
       "      <td>Crusader Kings 2</td>\n",
       "      <td>226</td>\n",
       "      <td>1473</td>\n",
       "      <td>1699</td>\n",
       "    </tr>\n",
       "    <tr>\n",
       "      <th>2</th>\n",
       "      <td>Hearts of Iron IV</td>\n",
       "      <td>895</td>\n",
       "      <td>10290</td>\n",
       "      <td>11185</td>\n",
       "    </tr>\n",
       "    <tr>\n",
       "      <th>3</th>\n",
       "      <td>Stellaris</td>\n",
       "      <td>741</td>\n",
       "      <td>6292</td>\n",
       "      <td>7033</td>\n",
       "    </tr>\n",
       "  </tbody>\n",
       "</table>\n",
       "</div>"
      ],
      "text/plain": [
       "               Title  Negative reviews  Positive Reviews  Total Reviews\n",
       "0          Victoria2                71              1155           1226\n",
       "1   Crusader Kings 2               226              1473           1699\n",
       "2  Hearts of Iron IV               895             10290          11185\n",
       "3          Stellaris               741              6292           7033"
      ]
     },
     "execution_count": 24,
     "metadata": {},
     "output_type": "execute_result"
    }
   ],
   "source": [
    "sum_column = df[\"Negative reviews\"] + df[\"Positive Reviews\"]\n",
    "df[\"Total Reviews\"] = sum_column\n",
    "df"
   ]
  },
  {
   "cell_type": "markdown",
   "metadata": {},
   "source": [
    "**Points to consider so far**\n",
    "\n",
    "- Hearts of Iron IV has the most reviews which does coincide with the fact that it is currently Paradox Games' most popular title according to steam charts in terms of [playercount](https://steamcharts.com/app/394360)\n",
    "\n",
    "- Victoria 2 has the highest percentage of positive reviews which affirms the community's attitudes twoards it in being a timely classic considering it was released in 2010 and has aged well.   \n",
    "\n",
    "- Crusader Kings 2 has the highest percentage of users who do not recommend the game which will require a further examiniation of the review descriptions to find out more.\n",
    "\n",
    "- Overall, over 85% of reviews recommend these games which does explain how grand strategy is an emerging gaming genre."
   ]
  },
  {
   "cell_type": "markdown",
   "metadata": {},
   "source": [
    "\n",
    "\n",
    "*Exploring Crusader Kings 2, the least favored game out of the sample* \n",
    "\n",
    "As noted, Crusader Kings 2  has the greatest proportion of negative reviews. This is possible due to several reasons. The most important of which is its price tag. Paradox games are notorious for hosting numerous DLCs, some of which are essential to maximize the player's expierence. However, crusader kings 2 does take the cake considering that it is an old game released in 2012 yet alongside the price of the base game, all 51 DLC packs [cost over 300 US dollars](https://www.pcgamesn.com/crusader-kings-ii/subscription-dlc). As one can imagine, this practice is not favored by the gaming community at all.\n",
    "\n",
    "In addition, it does suffer from an unfriendly user interface, steep learning curve, and simplified mechanics with regards to war.\n",
    "\n",
    "Nonetheless, people can argue that the user interface serves its purpose and that although its not the greatest, its not the worst. Its steep learning curve is offset by its depth which warrants such a thing and in effect, gives great amounts of replayability and flavor. With regards to its simple war mechanics, players argue that its not a game about war and hence its simple since the game revolves around dynasty management, intrigue, administration, and role playing. \n",
    "\n",
    "regardless, let us explore the first reason warranting such dissatisfaction that can be demonstrated by snatching a few samples from the 5 most recent negative reviews \n",
    "\n"
   ]
  },
  {
   "cell_type": "code",
   "execution_count": 25,
   "metadata": {},
   "outputs": [
    {
     "data": {
      "text/html": [
       "<div>\n",
       "<style scoped>\n",
       "    .dataframe tbody tr th:only-of-type {\n",
       "        vertical-align: middle;\n",
       "    }\n",
       "\n",
       "    .dataframe tbody tr th {\n",
       "        vertical-align: top;\n",
       "    }\n",
       "\n",
       "    .dataframe thead th {\n",
       "        text-align: right;\n",
       "    }\n",
       "</style>\n",
       "<table border=\"1\" class=\"dataframe\">\n",
       "  <thead>\n",
       "    <tr style=\"text-align: right;\">\n",
       "      <th></th>\n",
       "      <th>SteamId</th>\n",
       "      <th>ProfileURL</th>\n",
       "      <th>ReviewText</th>\n",
       "      <th>Review</th>\n",
       "      <th>ReviewLength</th>\n",
       "      <th>PlayHours</th>\n",
       "      <th>DatePosted</th>\n",
       "    </tr>\n",
       "  </thead>\n",
       "  <tbody>\n",
       "    <tr>\n",
       "      <th>5</th>\n",
       "      <td>kentarion</td>\n",
       "      <td>https://steamcommunity.com/id/kentarion/</td>\n",
       "      <td>Its a really good game, like nearly all of the...</td>\n",
       "      <td>Not Recommended</td>\n",
       "      <td>798.0</td>\n",
       "      <td>12.0</td>\n",
       "      <td>Posted: 13 May</td>\n",
       "    </tr>\n",
       "    <tr>\n",
       "      <th>9</th>\n",
       "      <td>cykahehe</td>\n",
       "      <td>https://steamcommunity.com/id/cykahehe/</td>\n",
       "      <td>I truly like this game but no game should have...</td>\n",
       "      <td>Not Recommended</td>\n",
       "      <td>487.0</td>\n",
       "      <td>750.0</td>\n",
       "      <td>Posted: 17 July</td>\n",
       "    </tr>\n",
       "    <tr>\n",
       "      <th>13</th>\n",
       "      <td>Resoula</td>\n",
       "      <td>https://steamcommunity.com/id/Resoula/</td>\n",
       "      <td>The beginning of Paradox's descent into DLC hell.</td>\n",
       "      <td>Not Recommended</td>\n",
       "      <td>42.0</td>\n",
       "      <td>79.0</td>\n",
       "      <td>Posted: 16 March</td>\n",
       "    </tr>\n",
       "    <tr>\n",
       "      <th>15</th>\n",
       "      <td>thepersonyouhate</td>\n",
       "      <td>https://steamcommunity.com/id/thepersonyouhate/</td>\n",
       "      <td>This game is amazing. It's fun, interesting, e...</td>\n",
       "      <td>Not Recommended</td>\n",
       "      <td>1219.0</td>\n",
       "      <td>569.0</td>\n",
       "      <td>Posted: 8 March</td>\n",
       "    </tr>\n",
       "    <tr>\n",
       "      <th>26</th>\n",
       "      <td>DeerTrap</td>\n",
       "      <td>https://steamcommunity.com/id/DeerTrap/</td>\n",
       "      <td>Capitalism: A comparison of videogame subscrip...</td>\n",
       "      <td>Not Recommended</td>\n",
       "      <td>1605.0</td>\n",
       "      <td>78.0</td>\n",
       "      <td>Posted: 20 February</td>\n",
       "    </tr>\n",
       "  </tbody>\n",
       "</table>\n",
       "</div>"
      ],
      "text/plain": [
       "             SteamId                                       ProfileURL  \\\n",
       "5          kentarion         https://steamcommunity.com/id/kentarion/   \n",
       "9           cykahehe          https://steamcommunity.com/id/cykahehe/   \n",
       "13           Resoula           https://steamcommunity.com/id/Resoula/   \n",
       "15  thepersonyouhate  https://steamcommunity.com/id/thepersonyouhate/   \n",
       "26          DeerTrap          https://steamcommunity.com/id/DeerTrap/   \n",
       "\n",
       "                                           ReviewText           Review  \\\n",
       "5   Its a really good game, like nearly all of the...  Not Recommended   \n",
       "9   I truly like this game but no game should have...  Not Recommended   \n",
       "13  The beginning of Paradox's descent into DLC hell.  Not Recommended   \n",
       "15  This game is amazing. It's fun, interesting, e...  Not Recommended   \n",
       "26  Capitalism: A comparison of videogame subscrip...  Not Recommended   \n",
       "\n",
       "    ReviewLength  PlayHours           DatePosted  \n",
       "5          798.0       12.0       Posted: 13 May  \n",
       "9          487.0      750.0      Posted: 17 July  \n",
       "13          42.0       79.0     Posted: 16 March  \n",
       "15        1219.0      569.0      Posted: 8 March  \n",
       "26        1605.0       78.0  Posted: 20 February  "
      ]
     },
     "execution_count": 25,
     "metadata": {},
     "output_type": "execute_result"
    }
   ],
   "source": [
    "crusader_kings2.loc[crusader_kings2.Review=='Not Recommended'].head()"
   ]
  },
  {
   "cell_type": "markdown",
   "metadata": {},
   "source": [
    "let us examine some reviews from a few users above in detail to get an idea "
   ]
  },
  {
   "cell_type": "code",
   "execution_count": 26,
   "metadata": {},
   "outputs": [
    {
     "data": {
      "text/plain": [
       "array([['cykahehe', 'https://steamcommunity.com/id/cykahehe/',\n",
       "        'I truly like this game but no game should have 32 dlcs, some of the features should come with the base game, things like character creation or the ability to play any religion, things like this make the base game feel like a beta version. To add multiplayer options and stability are awfull but that comes with paradox itself again. All in all the game is cool, love to play with the homies, but the fact that i have to sell a kidney to have the hole game available to me makes this a negative review. This is only from the standpoint of someone who plays the BASE GAME, not the game with the hole dlcs',\n",
       "        'Not Recommended', 487.0, 750.0, 'Posted: 17 July']], dtype=object)"
      ]
     },
     "execution_count": 26,
     "metadata": {},
     "output_type": "execute_result"
    }
   ],
   "source": [
    "crusader_kings2.loc[crusader_kings2.SteamId=='cykahehe'].values"
   ]
  },
  {
   "cell_type": "code",
   "execution_count": 27,
   "metadata": {},
   "outputs": [
    {
     "data": {
      "text/plain": [
       "array([['Resoula', 'https://steamcommunity.com/id/Resoula/',\n",
       "        \"The beginning of Paradox's descent into DLC hell.\",\n",
       "        'Not Recommended', 42.0, 79.0, 'Posted: 16 March']], dtype=object)"
      ]
     },
     "execution_count": 27,
     "metadata": {},
     "output_type": "execute_result"
    }
   ],
   "source": [
    "crusader_kings2.loc[crusader_kings2.SteamId=='Resoula'].values"
   ]
  },
  {
   "cell_type": "code",
   "execution_count": 28,
   "metadata": {
    "scrolled": false
   },
   "outputs": [
    {
     "data": {
      "text/plain": [
       "array([['thepersonyouhate',\n",
       "        'https://steamcommunity.com/id/thepersonyouhate/',\n",
       "        \"This game is amazing. It's fun, interesting, educational (to a degree), and it's so much fun. I love it. Otherwise, I wouldn't have spent over 500 hours playing it. Why do I not recommend it then? Because of Paradox. Possibly the avaricious game studio ever. I bought every single major DLC (I refuse to buy unit packs or music packs, simply unnecessary). I didn't like every DLC I bought, sometimes they added features or content that I didn't like (or sometimes didn't add enough), but I wanted to support and encourage Paradox to continue to develop the game. I knowingly contributed to their greedy attitude. $15-$20 DLCs are outrageous, especially after you make your game free to play. That itself is a betrayal. Is any other Paradox game free to play now? The first Crusader Kings is still $10 on Steam. Why did you make this one free? Why did you make Crusader Kings 3 anyway? There was no reason to make another game. Paradox still pops out major DLCs for EU4, and it runs on the same engine, and it is similar in age to CK2. Then, around a year later, when they realized a money-making machine suddenly stopped making them money, and they alienated part of their fanbase by making a new game, they somehow thought that adding a SUBSCRIPTION SERVICE to a DEAD, SINGLE-PLAYER GAME was a good idea? It's rubbing salt in the wound. Hopefully some other company starts making quality grand-strategy games and will dethrone Paradox. I will never give Paradox another cent.\",\n",
       "        'Not Recommended', 1219.0, 569.0, 'Posted: 8 March']],\n",
       "      dtype=object)"
      ]
     },
     "execution_count": 28,
     "metadata": {},
     "output_type": "execute_result"
    }
   ],
   "source": [
    "crusader_kings2.loc[crusader_kings2.SteamId=='thepersonyouhate'].values"
   ]
  },
  {
   "cell_type": "markdown",
   "metadata": {},
   "source": [
    "Not every review concerning the DLC policies are negative as we will find out that people may criticize the company and the game for such practices but leave a positive review solely because its a game of great quality    "
   ]
  },
  {
   "cell_type": "code",
   "execution_count": 29,
   "metadata": {
    "scrolled": false
   },
   "outputs": [
    {
     "data": {
      "text/plain": [
       "array([['aNFam', 'https://steamcommunity.com/id/aNFam/',\n",
       "        \"Great game but wouldn't recommend unless you can buy the subscription for the DLC. I don't have many hours so take this review with a grain of salt however, I do think that the justification system is very flawed. The only way to really declare war if fabricating claims, which takes roughly 5 year if your lucky, or by doing holy wars, declaring wars based on religion, but others of the same religion can join them causing this to be irrelevant.\",\n",
       "        'Recommended', 367.0, 56.0, 'Posted: 6 April']], dtype=object)"
      ]
     },
     "execution_count": 29,
     "metadata": {},
     "output_type": "execute_result"
    }
   ],
   "source": [
    "#for example, a review noting the unwelcome DLC policies and flawed justifcation system for war that still reccomends the game\n",
    "\n",
    "crusader_kings2.loc[crusader_kings2.SteamId=='aNFam'].values"
   ]
  },
  {
   "cell_type": "code",
   "execution_count": 30,
   "metadata": {
    "scrolled": true
   },
   "outputs": [
    {
     "data": {
      "text/plain": [
       "array([['10221371121', 'https://steamcommunity.com/id/10221371121/',\n",
       "        \"Incredible game if you're into sandboxing your own stories. The graphics are outdated, and the DLCs are expensive as hell, but the game provides a very immersive and enjoyable experience. I don't recommend this game if you're into map-painting, as that's something that gets really boring in this game. If you wanna play the game in an enjoyable way it is better to live with the consequences of your actions - rising to the top again after falling to the bottom is SO FUN.\",\n",
       "        'Recommended', 390.0, 839.0, 'Posted: 12 March']], dtype=object)"
      ]
     },
     "execution_count": 30,
     "metadata": {},
     "output_type": "execute_result"
    }
   ],
   "source": [
    "#another positive review with similar sentiments and higlighting that the game is not about war\n",
    "crusader_kings2.loc[crusader_kings2.SteamId=='10221371121'].values"
   ]
  },
  {
   "cell_type": "markdown",
   "metadata": {},
   "source": [
    "It is important to note that although the quality of the game may offset the unwelcome DLC policies and other setbacks, let us find out just how much this is an issue that people highlight such matters in their reviews. This could set a precedent for the company to always ensure that their quality of gameplay is high if they want to get away with pricey DLCs. Still, we will filter the data for keywords noting the DLC policies, user interface, war mechanic, and steep learning curve. "
   ]
  },
  {
   "cell_type": "code",
   "execution_count": 31,
   "metadata": {},
   "outputs": [
    {
     "data": {
      "text/plain": [
       "230"
      ]
     },
     "execution_count": 31,
     "metadata": {},
     "output_type": "execute_result"
    }
   ],
   "source": [
    "dlc = ['DLC','DLCS','DLCs','dlc','dlcs']\n",
    "\n",
    "pattern = '|'.join(dlc)\n",
    "\n",
    "dlc_result = crusader_kings2[crusader_kings2['ReviewText'].str.contains(pattern, na=False)]\n",
    "\n",
    "len(dlc_result)"
   ]
  },
  {
   "cell_type": "code",
   "execution_count": 32,
   "metadata": {},
   "outputs": [
    {
     "data": {
      "text/plain": [
       "96"
      ]
     },
     "execution_count": 32,
     "metadata": {},
     "output_type": "execute_result"
    }
   ],
   "source": [
    "ui = ['UI','ui','graphics','user interface']\n",
    "\n",
    "pattern = '|'.join(ui)\n",
    "\n",
    "ui_result = crusader_kings2[crusader_kings2['ReviewText'].str.contains(pattern, na=False)]\n",
    "\n",
    "len(ui_result)"
   ]
  },
  {
   "cell_type": "code",
   "execution_count": 33,
   "metadata": {},
   "outputs": [
    {
     "data": {
      "text/plain": [
       "73"
      ]
     },
     "execution_count": 33,
     "metadata": {},
     "output_type": "execute_result"
    }
   ],
   "source": [
    "war_mechanic = ['war', 'justification', 'cb','casus belli']\n",
    "\n",
    "pattern = '|'.join(war_mechanic)\n",
    "\n",
    "war_mechanic_result = crusader_kings2[crusader_kings2['ReviewText'].str.contains(pattern, na=False)]\n",
    "\n",
    "len(war_mechanic_result)"
   ]
  },
  {
   "cell_type": "code",
   "execution_count": 34,
   "metadata": {},
   "outputs": [
    {
     "data": {
      "text/plain": [
       "74"
      ]
     },
     "execution_count": 34,
     "metadata": {},
     "output_type": "execute_result"
    }
   ],
   "source": [
    "learning_curve = ['steep', 'complex', 'complicated','difficult', 'learning curve']\n",
    "\n",
    "pattern = '|'.join(learning_curve)\n",
    "\n",
    "learning_curve_result = crusader_kings2[crusader_kings2['ReviewText'].str.contains(pattern, na=False)]\n",
    "\n",
    "len(learning_curve_result)"
   ]
  },
  {
   "cell_type": "code",
   "execution_count": 35,
   "metadata": {},
   "outputs": [
    {
     "data": {
      "image/png": "[encoded data removed]",
      "text/plain": [
       "<Figure size 432x288 with 1 Axes>"
      ]
     },
     "metadata": {},
     "output_type": "display_data"
    }
   ],
   "source": [
    "fig = plt.figure()\n",
    "ax = fig.add_axes([0,0,1,1])\n",
    "categories = ['DLC', 'User Interface/Graphics', 'War mechanic', 'Learning Curve']\n",
    "number = [230,96,73,74]\n",
    "ax.bar(categories,number)\n",
    "plt.show()"
   ]
  },
  {
   "cell_type": "markdown",
   "metadata": {},
   "source": [
    "Granted there does exist some overlap in the reviews with regards to the criticisms of the game and no precise set of keywords can fully encapsulate the message of the reviews, it still provides some useful insight of what issue ranks the highest of concerns, the DLC policies"
   ]
  },
  {
   "cell_type": "markdown",
   "metadata": {},
   "source": [
    "lets get back to assesing the hours played in these titles when it comes to reviews. \n",
    "\n",
    "Hearts of Iron IV and Stellaris are considered newer titles in the grand strategy genre. Besides their much recent release dates in comparison to Victoria 2 and Crusader Kings 2, they are marked by several features that set them apart. These include:\n",
    "\n",
    "- Better graphics and user interfaces \n",
    "- Dedicated developers that are still releasing patches and updates\n",
    "- Better optimization when it comes to game performance \n",
    "- Integrating AI to make the game less micro-management intensive \n",
    "- Better tutorials\n",
    "- less of a steep of a learning curve\n",
    "\n",
    "It is a thing in the community that has caused some tension between fans of the old classics like Victoria 2 and Crusader Kings 2 and the newer titles where they argue that the company is sacrficing depth for accessibility to attract new players in fear that a steep learning curve would deter newcomers. \n",
    "\n",
    "Nonetheless, let us find out if people on average feel more comfortable to leave a review after having played fewer hours when it comes to newer titles. In addition, let us also test the length of their reviews and see just how committed players are on average to expand on their reccomendations. It would be safe to assume that because the older titles have steeper learning curves, people on average should take more time to play the game in order to figure it out as well as report lenghty reviews to let newcomers know the intricacies behind such games. "
   ]
  },
  {
   "cell_type": "code",
   "execution_count": 36,
   "metadata": {},
   "outputs": [
    {
     "data": {
      "text/plain": [
       "151.08401305057097"
      ]
     },
     "execution_count": 36,
     "metadata": {},
     "output_type": "execute_result"
    }
   ],
   "source": [
    "victoria2['PlayHours'].mean()"
   ]
  },
  {
   "cell_type": "code",
   "execution_count": 37,
   "metadata": {},
   "outputs": [
    {
     "data": {
      "text/plain": [
       "159.8922895821071"
      ]
     },
     "execution_count": 37,
     "metadata": {},
     "output_type": "execute_result"
    }
   ],
   "source": [
    "crusader_kings2['PlayHours'].mean()"
   ]
  },
  {
   "cell_type": "code",
   "execution_count": 38,
   "metadata": {},
   "outputs": [
    {
     "data": {
      "text/plain": [
       "219.07116674117123"
      ]
     },
     "execution_count": 38,
     "metadata": {},
     "output_type": "execute_result"
    }
   ],
   "source": [
    "hearts_of_iron4['PlayHours'].mean()"
   ]
  },
  {
   "cell_type": "code",
   "execution_count": 39,
   "metadata": {},
   "outputs": [
    {
     "data": {
      "text/plain": [
       "195.15057585667566"
      ]
     },
     "execution_count": 39,
     "metadata": {},
     "output_type": "execute_result"
    }
   ],
   "source": [
    "stellaris['PlayHours'].mean()"
   ]
  },
  {
   "cell_type": "code",
   "execution_count": 46,
   "metadata": {},
   "outputs": [
    {
     "data": {
      "image/png": "[encoded data removed]",
      "text/plain": [
       "<Figure size 432x288 with 1 Axes>"
      ]
     },
     "metadata": {},
     "output_type": "display_data"
    }
   ],
   "source": [
    "fig = plt.figure()\n",
    "ax = fig.add_axes([0,0,1,1])\n",
    "titles = ['Victoria 2', 'Crusader Kings 2', 'Hearts of Iron IV', 'Stellaris']\n",
    "hours = [151.1,160,219.1,195.2]\n",
    "ax.bar(titles,hours)\n",
    "x_pos = np.arange(len(titles))\n",
    "plt.bar(x_pos, hours, color=['black', 'red', 'green', 'blue'])\n",
    "plt.show()\n"
   ]
  },
  {
   "cell_type": "markdown",
   "metadata": {},
   "source": [
    "Interestingly enough, Hearts of Iron IV is arguably the easiest game to understand out of the sample yet more people on average take their time to play it before committing to a review. In addition, Stellaris, the second easiest game to learn, ranks second. While Victoria 2, which is arguably the most difficult of all of Paradox Game's to learn ranks the lowest. \n",
    "\n",
    "This completley goes against the previous assumption and could point that because people can master hearts of Iron IV much more quickly, they are confident to keep replaying it where as Victoria 2 players might be overwhelmed and stuck when it comes to gameplay so they pass a judgement call straight away. Let us examine their length of characters."
   ]
  },
  {
   "cell_type": "code",
   "execution_count": 52,
   "metadata": {},
   "outputs": [
    {
     "data": {
      "text/plain": [
       "105.14763458401305"
      ]
     },
     "execution_count": 52,
     "metadata": {},
     "output_type": "execute_result"
    }
   ],
   "source": [
    "victoria2['ReviewLength'].mean()"
   ]
  },
  {
   "cell_type": "code",
   "execution_count": 53,
   "metadata": {},
   "outputs": [
    {
     "data": {
      "text/plain": [
       "115.95055915244261"
      ]
     },
     "execution_count": 53,
     "metadata": {},
     "output_type": "execute_result"
    }
   ],
   "source": [
    "crusader_kings2['ReviewLength'].mean()"
   ]
  },
  {
   "cell_type": "code",
   "execution_count": 54,
   "metadata": {},
   "outputs": [
    {
     "data": {
      "text/plain": [
       "93.53071077335717"
      ]
     },
     "execution_count": 54,
     "metadata": {},
     "output_type": "execute_result"
    }
   ],
   "source": [
    "hearts_of_iron4['ReviewLength'].mean()"
   ]
  },
  {
   "cell_type": "code",
   "execution_count": 55,
   "metadata": {},
   "outputs": [
    {
     "data": {
      "text/plain": [
       "177.35518271008104"
      ]
     },
     "execution_count": 55,
     "metadata": {},
     "output_type": "execute_result"
    }
   ],
   "source": [
    "stellaris['ReviewLength'].mean()"
   ]
  },
  {
   "cell_type": "code",
   "execution_count": 56,
   "metadata": {
    "scrolled": true
   },
   "outputs": [
    {
     "data": {
      "image/png": "[encoded data removed]",
      "text/plain": [
       "<Figure size 432x288 with 1 Axes>"
      ]
     },
     "metadata": {},
     "output_type": "display_data"
    }
   ],
   "source": [
    "fig = plt.figure()\n",
    "ax = fig.add_axes([0,0,1,1])\n",
    "titles = ['Victoria 2', 'Crusader Kings 2', 'Hearts of Iron IV', 'Stellaris']\n",
    "character_length = [105,116,94,177]\n",
    "ax.bar(titles,character_length )\n",
    "x_pos = np.arange(len(titles))\n",
    "plt.bar(x_pos, character_length , color=['black', 'red', 'green', 'blue'])\n",
    "plt.show()"
   ]
  },
  {
   "cell_type": "markdown",
   "metadata": {},
   "source": [
    "Granted Hearts of Iron IV may have the most hours played prior to a review, it ranks the lowest when considering the length of such reviews. Stellaris ranks the highest while the older titles rank in the middle. Nonetheless, it is interesting to note that both newer titles took the lead in these two questions. \n",
    "\n",
    "With regards to this, stellaris might rank the highest because its the first game of its kind to deviate from historical narratives and focus sci-fi. Avid sci-fi fans enjoy long works of fiction and could be impressed by the game's mechanics revolving around space exploration that they feel the need to expand on their description to explain to newcomers who want to purchase the game."
   ]
  },
  {
   "cell_type": "markdown",
   "metadata": {},
   "source": [
    "Let us illustrate these two variables in a scatter plot to give us an overall idea of their relationship to one another"
   ]
  },
  {
   "cell_type": "code",
   "execution_count": 72,
   "metadata": {},
   "outputs": [
    {
     "data": {
      "text/plain": [
       "Text(0, 0.5, 'Hours Played')"
      ]
     },
     "execution_count": 72,
     "metadata": {},
     "output_type": "execute_result"
    },
    {
     "data": {
      "image/png": "[encoded data removed]",
      "text/plain": [
       "<Figure size 432x288 with 1 Axes>"
      ]
     },
     "metadata": {},
     "output_type": "display_data"
    }
   ],
   "source": [
    "plt.scatter(victoria2['ReviewLength'],victoria2['PlayHours'])\n",
    "\n",
    "plt.title(\"Relationship between hours played in Victoria 2 and the length of reviews\")\n",
    "plt.xlabel('Review Length',fontsize=10)\n",
    "plt.ylabel('Hours Played',fontsize=10)\n"
   ]
  },
  {
   "cell_type": "code",
   "execution_count": 71,
   "metadata": {},
   "outputs": [
    {
     "data": {
      "text/plain": [
       "Text(0, 0.5, 'Hours Played')"
      ]
     },
     "execution_count": 71,
     "metadata": {},
     "output_type": "execute_result"
    },
    {
     "data": {
      "image/png": "[encoded data removed]",
      "text/plain": [
       "<Figure size 432x288 with 1 Axes>"
      ]
     },
     "metadata": {},
     "output_type": "display_data"
    }
   ],
   "source": [
    "plt.scatter(crusader_kings2['ReviewLength'],crusader_kings2['PlayHours'])\n",
    "\n",
    "plt.title(\"Relationship between hours played in Crusader Kings 2 and the length of reviews\")\n",
    "plt.xlabel('Review Length',fontsize=10)\n",
    "plt.ylabel('Hours Played',fontsize=10)"
   ]
  },
  {
   "cell_type": "code",
   "execution_count": 73,
   "metadata": {},
   "outputs": [
    {
     "data": {
      "text/plain": [
       "Text(0, 0.5, 'Hours Played')"
      ]
     },
     "execution_count": 73,
     "metadata": {},
     "output_type": "execute_result"
    },
    {
     "data": {
      "image/png": "[encoded data removed]",
      "text/plain": [
       "<Figure size 432x288 with 1 Axes>"
      ]
     },
     "metadata": {},
     "output_type": "display_data"
    }
   ],
   "source": [
    "plt.scatter(hearts_of_iron4['ReviewLength'],hearts_of_iron4['PlayHours'])\n",
    "\n",
    "plt.title(\"Relationship between hours played in Hearts of Iron IV and the length of reviews\")\n",
    "plt.xlabel('Review Length',fontsize=10)\n",
    "plt.ylabel('Hours Played',fontsize=10)"
   ]
  },
  {
   "cell_type": "code",
   "execution_count": 74,
   "metadata": {},
   "outputs": [
    {
     "data": {
      "text/plain": [
       "Text(0, 0.5, 'Hours Played')"
      ]
     },
     "execution_count": 74,
     "metadata": {},
     "output_type": "execute_result"
    },
    {
     "data": {
      "image/png": "[encoded data removed]",
      "text/plain": [
       "<Figure size 432x288 with 1 Axes>"
      ]
     },
     "metadata": {},
     "output_type": "display_data"
    }
   ],
   "source": [
    "plt.scatter(stellaris['ReviewLength'],stellaris['PlayHours'])\n",
    "\n",
    "plt.title(\"Relationship between hours played in Stellaris and the length of reviews\")\n",
    "plt.xlabel('Review Length',fontsize=10)\n",
    "plt.ylabel('Hours Played',fontsize=10)"
   ]
  },
  {
   "cell_type": "markdown",
   "metadata": {},
   "source": [
    "These plots highlight what we already discussed, as we can see in the hearts of iron IV plot, it heavily clusters at the top of the hours played while Stellaris has a heavy cluster in the middle of the review length "
   ]
  },
  {
   "cell_type": "code",
   "execution_count": null,
   "metadata": {},
   "outputs": [],
   "source": []
  }
 ],
 "metadata": {
  "kernelspec": {
   "display_name": "Python 3",
   "language": "python",
   "name": "python3"
  },
  "language_info": {
   "codemirror_mode": {
    "name": "ipython",
    "version": 3
   },
   "file_extension": ".py",
   "mimetype": "text/x-python",
   "name": "python",
   "nbconvert_exporter": "python",
   "pygments_lexer": "ipython3",
   "version": "3.7.3"
  }
 },
 "nbformat": 4,
 "nbformat_minor": 2
}
